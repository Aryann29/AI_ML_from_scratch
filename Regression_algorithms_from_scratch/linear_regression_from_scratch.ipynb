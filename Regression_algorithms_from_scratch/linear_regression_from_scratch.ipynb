{
  "nbformat": 4,
  "nbformat_minor": 0,
  "metadata": {
    "colab": {
      "provenance": [],
      "authorship_tag": "ABX9TyNqxWHUtHf6PCYiLtA2VLZH",
      "include_colab_link": true
    },
    "kernelspec": {
      "name": "python3",
      "display_name": "Python 3"
    },
    "language_info": {
      "name": "python"
    }
  },
  "cells": [
    {
      "cell_type": "markdown",
      "metadata": {
        "id": "view-in-github",
        "colab_type": "text"
      },
      "source": [
        "<a href=\"https://colab.research.google.com/github/Aryann29/AI_ML_from_scratch/blob/main/Regression_algorithms_from_scratch/linear_regression_from_scratch.ipynb\" target=\"_parent\"><img src=\"https://colab.research.google.com/assets/colab-badge.svg\" alt=\"Open In Colab\"/></a>"
      ]
    },
    {
      "cell_type": "code",
      "source": [
        "import numpy as np"
      ],
      "metadata": {
        "id": "nV4HIL2DM4IH"
      },
      "execution_count": null,
      "outputs": []
    },
    {
      "cell_type": "code",
      "execution_count": null,
      "metadata": {
        "id": "H0gw8plzMZ1v"
      },
      "outputs": [],
      "source": [
        "class LinearRegression:\n",
        "  def __init__(self):\n",
        "    self.coef_ =None\n",
        "    self.intercept_ = None\n",
        "\n",
        "  def fit(self,X,Y):\n",
        "    x = np.array(X)\n",
        "    y = np.array(Y)\n",
        "\n",
        "    n = x.shape[0]\n",
        "\n",
        "    x_mean =np.mean(x)\n",
        "    y_mean = np.mean(y)\n",
        "\n",
        "    num = 0\n",
        "    dem= 0\n",
        "\n",
        "    for i in range(n):\n",
        "      num+=(x[i]-x_mean)*(y[i]-y_mean)\n",
        "      dem+= (x[i]-x_mean)**2\n",
        "\n",
        "    self.coef_ = num/dem\n",
        "    self.intercept_ = y_mean -(x_mean*self.coef_)\n",
        "\n",
        "    return self.coef_ , self.intercept_\n",
        "\n",
        "\n",
        "  def predict(self,X):\n",
        "    x = np.array(X)\n",
        "    return x*self.coef_ + self.intercept_"
      ]
    },
    {
      "cell_type": "code",
      "source": [
        "X = [1,2,3,4,5]\n",
        "Y = [5,10,15,20,25]\n",
        "\n",
        "lr = LinearRegression() \n",
        "lr.fit(X,Y)\n",
        "lr.predict(3)\n",
        "\n"
      ],
      "metadata": {
        "colab": {
          "base_uri": "https://localhost:8080/"
        },
        "id": "snlHUD-HM6kW",
        "outputId": "e31058dd-b24c-457d-feb3-84f68790b14f"
      },
      "execution_count": null,
      "outputs": [
        {
          "output_type": "execute_result",
          "data": {
            "text/plain": [
              "15.0"
            ]
          },
          "metadata": {},
          "execution_count": 23
        }
      ]
    }
  ]
}