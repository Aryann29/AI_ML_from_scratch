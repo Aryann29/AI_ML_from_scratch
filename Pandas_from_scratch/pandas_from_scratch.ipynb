{
  "nbformat": 4,
  "nbformat_minor": 0,
  "metadata": {
    "colab": {
      "provenance": [],
      "authorship_tag": "ABX9TyOryWzdIixpdJV8h64peypN",
      "include_colab_link": true
    },
    "kernelspec": {
      "name": "python3",
      "display_name": "Python 3"
    },
    "language_info": {
      "name": "python"
    }
  },
  "cells": [
    {
      "cell_type": "markdown",
      "metadata": {
        "id": "view-in-github",
        "colab_type": "text"
      },
      "source": [
        "<a href=\"https://colab.research.google.com/github/Aryann29/AI_ML_from_scratch/blob/main/Pandas_from_scratch/pandas_from_scratch.ipynb\" target=\"_parent\"><img src=\"https://colab.research.google.com/assets/colab-badge.svg\" alt=\"Open In Colab\"/></a>"
      ]
    },
    {
      "cell_type": "code",
      "source": [
        "import os\n",
        "import csv\n",
        "import random\n",
        "from tabulate import tabulate"
      ],
      "metadata": {
        "id": "30LM80p_WNzY"
      },
      "execution_count": 2,
      "outputs": []
    },
    {
      "cell_type": "code",
      "source": [
        "class pandas:\n",
        "\n",
        "  def __init__(self , data=None):\n",
        "    self.data = data\n",
        "\n",
        "  def read_csv(self ,path ):\n",
        "    self.path = path\n",
        "    data = []\n",
        "    with open( self.path ) as csv_file:\n",
        "      reader = csv.reader(csv_file ,delimiter=',', quotechar='\"')\n",
        "      for row in reader:\n",
        "        data.append(row)\n",
        "\n",
        "      col_names = data[0]\n",
        "      without_head = data[1:]\n",
        "      columns={}\n",
        "      for col in col_names:\n",
        "        columns[col]=[]\n",
        "          \n",
        "      for row in without_head:\n",
        "        for i , value in enumerate(row):\n",
        "          col_name = col_names[i]\n",
        "          columns[col_name].append(value) \n",
        "          \n",
        "      return DataFrame(columns)\n"
      ],
      "metadata": {
        "id": "iVi4ZXNlOnSL"
      },
      "execution_count": 3,
      "outputs": []
    },
    {
      "cell_type": "code",
      "source": [
        "class DataFrame:\n",
        "\n",
        "  def __init__(self, data):\n",
        "    if isinstance(data, dict):\n",
        "      self.data = data\n",
        "      self.column_names = list(data.keys())\n",
        "    elif isinstance(data, list):\n",
        "      self.data = {i: col for i, col in enumerate(data)}\n",
        "      self.column_names = [str(i) for i in range(len(data[0]))]\n",
        "    else:\n",
        "      raise TypeError(\"Data must be a dictionary or a list\") \n",
        "\n",
        "  def __repr__(self):\n",
        "    return tabulate(self.data, headers='keys', tablefmt='psql')\n",
        "\n",
        "  @property\n",
        "  def columns(self):\n",
        "    return self.column_names\n",
        "\n",
        "  def head(self, n=5):\n",
        "    head_data = {}\n",
        "    for key in self.data:\n",
        "        head_data[key] = self.data[key][:n]\n",
        "    return DataFrame(head_data)\n",
        "\n",
        "  def tail(self, n=5):\n",
        "    tail_data = {}\n",
        "    for key in self.data:\n",
        "        tail_data[key] = self.data[key][-n:]\n",
        "    return DataFrame(tail_data)\n",
        "    \n",
        "  def sample(self, n=5):\n",
        "    random.seed(42)\n",
        "    shuffled_index = random.sample(range(len(self.data[self.column_names[0]])), n)\n",
        "    samples = {col: [self.data[col][i] for i in shuffled_index] for col in self.column_names}\n",
        "    return DataFrame(samples)"
      ],
      "metadata": {
        "id": "heQNW1zIVg8T"
      },
      "execution_count": 25,
      "outputs": []
    },
    {
      "cell_type": "code",
      "source": [
        "\n",
        "pd = pandas()"
      ],
      "metadata": {
        "id": "7S9znfRXyzPf"
      },
      "execution_count": 26,
      "outputs": []
    },
    {
      "cell_type": "code",
      "source": [
        "df = pd.read_csv('/content/play_tennis.csv')"
      ],
      "metadata": {
        "id": "LTE8I4PfzDoW"
      },
      "execution_count": 27,
      "outputs": []
    },
    {
      "cell_type": "code",
      "source": [
        "df"
      ],
      "metadata": {
        "colab": {
          "base_uri": "https://localhost:8080/"
        },
        "id": "vbHOFhQa9WWP",
        "outputId": "d66de229-55aa-465a-c9c9-5510de59c5c4"
      },
      "execution_count": 28,
      "outputs": [
        {
          "output_type": "execute_result",
          "data": {
            "text/plain": [
              "+-------+-----------+--------+------------+--------+--------+\n",
              "| day   | outlook   | temp   | humidity   | wind   | play   |\n",
              "|-------+-----------+--------+------------+--------+--------|\n",
              "| D1    | Sunny     | Hot    | High       | Weak   | No     |\n",
              "| D2    | Sunny     | Hot    | High       | Strong | No     |\n",
              "| D3    | Overcast  | Hot    | High       | Weak   | Yes    |\n",
              "| D4    | Rain      | Mild   | High       | Weak   | Yes    |\n",
              "| D5    | Rain      | Cool   | Normal     | Weak   | Yes    |\n",
              "| D6    | Rain      | Cool   | Normal     | Strong | No     |\n",
              "| D7    | Overcast  | Cool   | Normal     | Strong | Yes    |\n",
              "| D8    | Sunny     | Mild   | High       | Weak   | No     |\n",
              "| D9    | Sunny     | Cool   | Normal     | Weak   | Yes    |\n",
              "| D10   | Rain      | Mild   | Normal     | Weak   | Yes    |\n",
              "| D11   | Sunny     | Mild   | Normal     | Strong | Yes    |\n",
              "| D12   | Overcast  | Mild   | High       | Strong | Yes    |\n",
              "| D13   | Overcast  | Hot    | Normal     | Weak   | Yes    |\n",
              "| D14   | Rain      | Mild   | High       | Strong | No     |\n",
              "+-------+-----------+--------+------------+--------+--------+"
            ]
          },
          "metadata": {},
          "execution_count": 28
        }
      ]
    },
    {
      "cell_type": "code",
      "source": [
        "df.head(5)"
      ],
      "metadata": {
        "colab": {
          "base_uri": "https://localhost:8080/"
        },
        "id": "1sMaM442_OZf",
        "outputId": "aa2ffe15-0fab-4eab-80af-9375f574dfb7"
      },
      "execution_count": 29,
      "outputs": [
        {
          "output_type": "execute_result",
          "data": {
            "text/plain": [
              "+-------+-----------+--------+------------+--------+--------+\n",
              "| day   | outlook   | temp   | humidity   | wind   | play   |\n",
              "|-------+-----------+--------+------------+--------+--------|\n",
              "| D1    | Sunny     | Hot    | High       | Weak   | No     |\n",
              "| D2    | Sunny     | Hot    | High       | Strong | No     |\n",
              "| D3    | Overcast  | Hot    | High       | Weak   | Yes    |\n",
              "| D4    | Rain      | Mild   | High       | Weak   | Yes    |\n",
              "| D5    | Rain      | Cool   | Normal     | Weak   | Yes    |\n",
              "+-------+-----------+--------+------------+--------+--------+"
            ]
          },
          "metadata": {},
          "execution_count": 29
        }
      ]
    },
    {
      "cell_type": "code",
      "source": [
        "df.columns"
      ],
      "metadata": {
        "colab": {
          "base_uri": "https://localhost:8080/"
        },
        "id": "SCIEC-iCBl81",
        "outputId": "a239597e-e5bd-4650-aa61-744309146173"
      },
      "execution_count": 30,
      "outputs": [
        {
          "output_type": "execute_result",
          "data": {
            "text/plain": [
              "['day', 'outlook', 'temp', 'humidity', 'wind', 'play']"
            ]
          },
          "metadata": {},
          "execution_count": 30
        }
      ]
    },
    {
      "cell_type": "code",
      "source": [
        "df.sample(5)"
      ],
      "metadata": {
        "id": "dHflgrvrxcBD",
        "colab": {
          "base_uri": "https://localhost:8080/"
        },
        "outputId": "1ab6e386-103d-4df0-8f51-3b40807f23c6"
      },
      "execution_count": 31,
      "outputs": [
        {
          "output_type": "execute_result",
          "data": {
            "text/plain": [
              "+-------+-----------+--------+------------+--------+--------+\n",
              "| day   | outlook   | temp   | humidity   | wind   | play   |\n",
              "|-------+-----------+--------+------------+--------+--------|\n",
              "| D11   | Sunny     | Mild   | Normal     | Strong | Yes    |\n",
              "| D2    | Sunny     | Hot    | High       | Strong | No     |\n",
              "| D1    | Sunny     | Hot    | High       | Weak   | No     |\n",
              "| D5    | Rain      | Cool   | Normal     | Weak   | Yes    |\n",
              "| D4    | Rain      | Mild   | High       | Weak   | Yes    |\n",
              "+-------+-----------+--------+------------+--------+--------+"
            ]
          },
          "metadata": {},
          "execution_count": 31
        }
      ]
    },
    {
      "cell_type": "code",
      "source": [
        "df.tail()"
      ],
      "metadata": {
        "colab": {
          "base_uri": "https://localhost:8080/"
        },
        "id": "CJ6TAaq4FmWk",
        "outputId": "711a22e7-78dc-4a90-ca06-08f2db332cbb"
      },
      "execution_count": 33,
      "outputs": [
        {
          "output_type": "execute_result",
          "data": {
            "text/plain": [
              "+-------+-----------+--------+------------+--------+--------+\n",
              "| day   | outlook   | temp   | humidity   | wind   | play   |\n",
              "|-------+-----------+--------+------------+--------+--------|\n",
              "| D10   | Rain      | Mild   | Normal     | Weak   | Yes    |\n",
              "| D11   | Sunny     | Mild   | Normal     | Strong | Yes    |\n",
              "| D12   | Overcast  | Mild   | High       | Strong | Yes    |\n",
              "| D13   | Overcast  | Hot    | Normal     | Weak   | Yes    |\n",
              "| D14   | Rain      | Mild   | High       | Strong | No     |\n",
              "+-------+-----------+--------+------------+--------+--------+"
            ]
          },
          "metadata": {},
          "execution_count": 33
        }
      ]
    },
    {
      "cell_type": "code",
      "source": [],
      "metadata": {
        "id": "eGAMdfu3Hop1"
      },
      "execution_count": null,
      "outputs": []
    }
  ]
}